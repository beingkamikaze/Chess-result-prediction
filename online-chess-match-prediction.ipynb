{
 "cells": [
  {
   "cell_type": "code",
   "execution_count": 1,
   "metadata": {
    "_cell_guid": "b1076dfc-b9ad-4769-8c92-a6c4dae69d19",
    "_uuid": "8f2839f25d086af736a60e9eeb907d3b93b6e0e5",
    "execution": {
     "iopub.execute_input": "2022-01-13T10:28:30.438607Z",
     "iopub.status.busy": "2022-01-13T10:28:30.438293Z",
     "iopub.status.idle": "2022-01-13T10:28:30.446733Z",
     "shell.execute_reply": "2022-01-13T10:28:30.445471Z",
     "shell.execute_reply.started": "2022-01-13T10:28:30.438573Z"
    }
   },
   "outputs": [],
   "source": [
    "#Importing Required Libraries\n",
    "import numpy as np\n",
    "import pandas as pd \n",
    "import seaborn as sns\n",
    "import matplotlib as mpl\n",
    "import matplotlib.pyplot as plt\n",
    "import os\n",
    "\n",
    "from sklearn import model_selection\n",
    "from sklearn.preprocessing import LabelEncoder\n",
    "from sklearn.metrics import confusion_matrix\n",
    "from sklearn.model_selection import train_test_split\n",
    "from sklearn.tree import DecisionTreeClassifier\n",
    "from sklearn.svm import SVC \n",
    "from sklearn.linear_model import LogisticRegression\n",
    "from sklearn.ensemble import RandomForestClassifier\n",
    "from sklearn.metrics import accuracy_score\n",
    "from sklearn.metrics import classification_report"
   ]
  },
  {
   "cell_type": "code",
   "execution_count": 2,
   "metadata": {
    "execution": {
     "iopub.execute_input": "2022-01-13T10:28:30.449262Z",
     "iopub.status.busy": "2022-01-13T10:28:30.448744Z",
     "iopub.status.idle": "2022-01-13T10:28:30.626023Z",
     "shell.execute_reply": "2022-01-13T10:28:30.625061Z",
     "shell.execute_reply.started": "2022-01-13T10:28:30.449228Z"
    }
   },
   "outputs": [
    {
     "data": {
      "text/html": [
       "<div>\n",
       "<style scoped>\n",
       "    .dataframe tbody tr th:only-of-type {\n",
       "        vertical-align: middle;\n",
       "    }\n",
       "\n",
       "    .dataframe tbody tr th {\n",
       "        vertical-align: top;\n",
       "    }\n",
       "\n",
       "    .dataframe thead th {\n",
       "        text-align: right;\n",
       "    }\n",
       "</style>\n",
       "<table border=\"1\" class=\"dataframe\">\n",
       "  <thead>\n",
       "    <tr style=\"text-align: right;\">\n",
       "      <th></th>\n",
       "      <th>game_id</th>\n",
       "      <th>rated</th>\n",
       "      <th>turns</th>\n",
       "      <th>victory_status</th>\n",
       "      <th>winner</th>\n",
       "      <th>time_increment</th>\n",
       "      <th>white_id</th>\n",
       "      <th>white_rating</th>\n",
       "      <th>black_id</th>\n",
       "      <th>black_rating</th>\n",
       "      <th>moves</th>\n",
       "      <th>opening_code</th>\n",
       "      <th>opening_moves</th>\n",
       "      <th>opening_fullname</th>\n",
       "      <th>opening_shortname</th>\n",
       "      <th>opening_response</th>\n",
       "      <th>opening_variation</th>\n",
       "    </tr>\n",
       "  </thead>\n",
       "  <tbody>\n",
       "    <tr>\n",
       "      <th>0</th>\n",
       "      <td>1</td>\n",
       "      <td>False</td>\n",
       "      <td>13</td>\n",
       "      <td>Out of Time</td>\n",
       "      <td>White</td>\n",
       "      <td>15+2</td>\n",
       "      <td>bourgris</td>\n",
       "      <td>1500</td>\n",
       "      <td>a-00</td>\n",
       "      <td>1191</td>\n",
       "      <td>d4 d5 c4 c6 cxd5 e6 dxe6 fxe6 Nf3 Bb4+ Nc3 Ba5...</td>\n",
       "      <td>D10</td>\n",
       "      <td>5</td>\n",
       "      <td>Slav Defense: Exchange Variation</td>\n",
       "      <td>Slav Defense</td>\n",
       "      <td>NaN</td>\n",
       "      <td>Exchange Variation</td>\n",
       "    </tr>\n",
       "  </tbody>\n",
       "</table>\n",
       "</div>"
      ],
      "text/plain": [
       "   game_id  rated  turns victory_status winner time_increment  white_id  \\\n",
       "0        1  False     13    Out of Time  White           15+2  bourgris   \n",
       "\n",
       "   white_rating black_id  black_rating  \\\n",
       "0          1500     a-00          1191   \n",
       "\n",
       "                                               moves opening_code  \\\n",
       "0  d4 d5 c4 c6 cxd5 e6 dxe6 fxe6 Nf3 Bb4+ Nc3 Ba5...          D10   \n",
       "\n",
       "   opening_moves                  opening_fullname opening_shortname  \\\n",
       "0              5  Slav Defense: Exchange Variation      Slav Defense   \n",
       "\n",
       "  opening_response   opening_variation  \n",
       "0              NaN  Exchange Variation  "
      ]
     },
     "execution_count": 2,
     "metadata": {},
     "output_type": "execute_result"
    }
   ],
   "source": [
    "#Reading data\n",
    "game = pd.read_csv('chess_games.csv')\n",
    "game.head(1)"
   ]
  },
  {
   "cell_type": "code",
   "execution_count": 3,
   "metadata": {
    "execution": {
     "iopub.execute_input": "2022-01-13T10:28:30.62769Z",
     "iopub.status.busy": "2022-01-13T10:28:30.627422Z",
     "iopub.status.idle": "2022-01-13T10:28:30.635299Z",
     "shell.execute_reply": "2022-01-13T10:28:30.63414Z",
     "shell.execute_reply.started": "2022-01-13T10:28:30.627659Z"
    }
   },
   "outputs": [
    {
     "data": {
      "text/plain": [
       "(20058, 17)"
      ]
     },
     "execution_count": 3,
     "metadata": {},
     "output_type": "execute_result"
    }
   ],
   "source": [
    "#Checking thhe shape of the dataset\n",
    "game.shape"
   ]
  },
  {
   "cell_type": "code",
   "execution_count": 4,
   "metadata": {
    "execution": {
     "iopub.execute_input": "2022-01-13T10:28:30.637413Z",
     "iopub.status.busy": "2022-01-13T10:28:30.637041Z",
     "iopub.status.idle": "2022-01-13T10:28:30.651221Z",
     "shell.execute_reply": "2022-01-13T10:28:30.650201Z",
     "shell.execute_reply.started": "2022-01-13T10:28:30.637368Z"
    }
   },
   "outputs": [
    {
     "data": {
      "text/plain": [
       "(20058, 8)"
      ]
     },
     "execution_count": 4,
     "metadata": {},
     "output_type": "execute_result"
    }
   ],
   "source": [
    "#Dropping columns\n",
    "data=game.drop(labels=['rated','victory_status','time_increment','white_id','black_id','moves','opening_fullname','opening_variation','opening_response'],axis=1)\n",
    "data.shape"
   ]
  },
  {
   "cell_type": "code",
   "execution_count": 5,
   "metadata": {
    "execution": {
     "iopub.execute_input": "2022-01-13T10:28:30.655239Z",
     "iopub.status.busy": "2022-01-13T10:28:30.654693Z",
     "iopub.status.idle": "2022-01-13T10:28:30.674976Z",
     "shell.execute_reply": "2022-01-13T10:28:30.674076Z",
     "shell.execute_reply.started": "2022-01-13T10:28:30.655188Z"
    }
   },
   "outputs": [
    {
     "data": {
      "text/plain": [
       "array([2, 0, 2, ..., 2, 2, 0])"
      ]
     },
     "execution_count": 5,
     "metadata": {},
     "output_type": "execute_result"
    }
   ],
   "source": [
    "le = LabelEncoder()\n",
    "target = le.fit_transform(data['winner'])\n",
    "target"
   ]
  },
  {
   "cell_type": "code",
   "execution_count": 6,
   "metadata": {
    "execution": {
     "iopub.execute_input": "2022-01-13T10:28:30.676651Z",
     "iopub.status.busy": "2022-01-13T10:28:30.676185Z",
     "iopub.status.idle": "2022-01-13T10:28:30.700378Z",
     "shell.execute_reply": "2022-01-13T10:28:30.699696Z",
     "shell.execute_reply.started": "2022-01-13T10:28:30.67657Z"
    }
   },
   "outputs": [
    {
     "data": {
      "text/html": [
       "<div>\n",
       "<style scoped>\n",
       "    .dataframe tbody tr th:only-of-type {\n",
       "        vertical-align: middle;\n",
       "    }\n",
       "\n",
       "    .dataframe tbody tr th {\n",
       "        vertical-align: top;\n",
       "    }\n",
       "\n",
       "    .dataframe thead th {\n",
       "        text-align: right;\n",
       "    }\n",
       "</style>\n",
       "<table border=\"1\" class=\"dataframe\">\n",
       "  <thead>\n",
       "    <tr style=\"text-align: right;\">\n",
       "      <th></th>\n",
       "      <th>game_id</th>\n",
       "      <th>turns</th>\n",
       "      <th>winner</th>\n",
       "      <th>white_rating</th>\n",
       "      <th>black_rating</th>\n",
       "      <th>opening_code</th>\n",
       "      <th>opening_moves</th>\n",
       "      <th>opening_shortname</th>\n",
       "    </tr>\n",
       "  </thead>\n",
       "  <tbody>\n",
       "    <tr>\n",
       "      <th>0</th>\n",
       "      <td>1</td>\n",
       "      <td>13</td>\n",
       "      <td>White</td>\n",
       "      <td>1500</td>\n",
       "      <td>1191</td>\n",
       "      <td>D10</td>\n",
       "      <td>5</td>\n",
       "      <td>110</td>\n",
       "    </tr>\n",
       "    <tr>\n",
       "      <th>1</th>\n",
       "      <td>2</td>\n",
       "      <td>16</td>\n",
       "      <td>Black</td>\n",
       "      <td>1322</td>\n",
       "      <td>1261</td>\n",
       "      <td>B00</td>\n",
       "      <td>4</td>\n",
       "      <td>74</td>\n",
       "    </tr>\n",
       "    <tr>\n",
       "      <th>2</th>\n",
       "      <td>3</td>\n",
       "      <td>61</td>\n",
       "      <td>White</td>\n",
       "      <td>1496</td>\n",
       "      <td>1500</td>\n",
       "      <td>C20</td>\n",
       "      <td>3</td>\n",
       "      <td>61</td>\n",
       "    </tr>\n",
       "    <tr>\n",
       "      <th>3</th>\n",
       "      <td>4</td>\n",
       "      <td>61</td>\n",
       "      <td>White</td>\n",
       "      <td>1439</td>\n",
       "      <td>1454</td>\n",
       "      <td>D02</td>\n",
       "      <td>3</td>\n",
       "      <td>94</td>\n",
       "    </tr>\n",
       "    <tr>\n",
       "      <th>4</th>\n",
       "      <td>5</td>\n",
       "      <td>95</td>\n",
       "      <td>White</td>\n",
       "      <td>1523</td>\n",
       "      <td>1469</td>\n",
       "      <td>C41</td>\n",
       "      <td>5</td>\n",
       "      <td>83</td>\n",
       "    </tr>\n",
       "  </tbody>\n",
       "</table>\n",
       "</div>"
      ],
      "text/plain": [
       "   game_id  turns winner  white_rating  black_rating opening_code  \\\n",
       "0        1     13  White          1500          1191          D10   \n",
       "1        2     16  Black          1322          1261          B00   \n",
       "2        3     61  White          1496          1500          C20   \n",
       "3        4     61  White          1439          1454          D02   \n",
       "4        5     95  White          1523          1469          C41   \n",
       "\n",
       "   opening_moves  opening_shortname  \n",
       "0              5                110  \n",
       "1              4                 74  \n",
       "2              3                 61  \n",
       "3              3                 94  \n",
       "4              5                 83  "
      ]
     },
     "execution_count": 6,
     "metadata": {},
     "output_type": "execute_result"
    }
   ],
   "source": [
    "le2 = LabelEncoder()\n",
    "data['opening_shortname'] = le2.fit_transform(data['opening_shortname'])\n",
    "data.head()"
   ]
  },
  {
   "cell_type": "code",
   "execution_count": 7,
   "metadata": {
    "execution": {
     "iopub.execute_input": "2022-01-13T10:28:30.701959Z",
     "iopub.status.busy": "2022-01-13T10:28:30.701702Z",
     "iopub.status.idle": "2022-01-13T10:28:30.713659Z",
     "shell.execute_reply": "2022-01-13T10:28:30.712885Z",
     "shell.execute_reply.started": "2022-01-13T10:28:30.701913Z"
    }
   },
   "outputs": [
    {
     "name": "stdout",
     "output_type": "stream",
     "text": [
      "game_id              0\n",
      "turns                0\n",
      "winner               0\n",
      "white_rating         0\n",
      "black_rating         0\n",
      "opening_code         0\n",
      "opening_moves        0\n",
      "opening_shortname    0\n",
      "dtype: int64\n"
     ]
    }
   ],
   "source": [
    "# Checking for missing value counts\n",
    "print(data.isnull().sum())"
   ]
  },
  {
   "cell_type": "code",
   "execution_count": 8,
   "metadata": {
    "execution": {
     "iopub.execute_input": "2022-01-13T10:28:30.715551Z",
     "iopub.status.busy": "2022-01-13T10:28:30.715038Z",
     "iopub.status.idle": "2022-01-13T10:28:30.725942Z",
     "shell.execute_reply": "2022-01-13T10:28:30.724881Z",
     "shell.execute_reply.started": "2022-01-13T10:28:30.715512Z"
    }
   },
   "outputs": [
    {
     "data": {
      "text/plain": [
       "game_id               int64\n",
       "turns                 int64\n",
       "winner               object\n",
       "white_rating          int64\n",
       "black_rating          int64\n",
       "opening_code         object\n",
       "opening_moves         int64\n",
       "opening_shortname     int32\n",
       "dtype: object"
      ]
     },
     "execution_count": 8,
     "metadata": {},
     "output_type": "execute_result"
    }
   ],
   "source": [
    "data.dtypes"
   ]
  },
  {
   "cell_type": "code",
   "execution_count": 9,
   "metadata": {
    "execution": {
     "iopub.execute_input": "2022-01-13T10:28:30.728189Z",
     "iopub.status.busy": "2022-01-13T10:28:30.727274Z",
     "iopub.status.idle": "2022-01-13T10:28:32.475257Z",
     "shell.execute_reply": "2022-01-13T10:28:32.47423Z",
     "shell.execute_reply.started": "2022-01-13T10:28:30.72814Z"
    }
   },
   "outputs": [
    {
     "data": {
      "text/plain": [
       "<AxesSubplot:xlabel='opening_moves', ylabel='Count'>"
      ]
     },
     "execution_count": 9,
     "metadata": {},
     "output_type": "execute_result"
    },
    {
     "data": {
      "image/png": "[encoded data removed]",
      "text/plain": [
       "<Figure size 720x504 with 1 Axes>"
      ]
     },
     "metadata": {
      "needs_background": "light"
     },
     "output_type": "display_data"
    }
   ],
   "source": [
    "f, ax = plt.subplots(figsize=(10,7))\n",
    "sns.histplot(x=\"opening_moves\", hue=\"winner\", data=data, multiple='stack', linewidth=0.5, edgecolor=\".3\")"
   ]
  },
  {
   "cell_type": "code",
   "execution_count": 10,
   "metadata": {
    "execution": {
     "iopub.execute_input": "2022-01-13T10:28:32.477855Z",
     "iopub.status.busy": "2022-01-13T10:28:32.477204Z",
     "iopub.status.idle": "2022-01-13T10:28:32.483724Z",
     "shell.execute_reply": "2022-01-13T10:28:32.482693Z",
     "shell.execute_reply.started": "2022-01-13T10:28:32.477806Z"
    }
   },
   "outputs": [],
   "source": [
    "# Function to split the dataset\n",
    "def splitdataset(balance_data,target):\n",
    "  \n",
    "    # Separating the target variable\n",
    "    X = balance_data.values[:,[1,3,4,6,7]]\n",
    "    Y = target\n",
    "  \n",
    "    # Splitting the dataset into train and test\n",
    "    X_train, X_test, y_train, y_test = train_test_split( \n",
    "    X, Y, test_size = 0.15, random_state = 40)\n",
    "      \n",
    "    return X, Y, X_train, X_test, y_train, y_test"
   ]
  },
  {
   "cell_type": "code",
   "execution_count": 11,
   "metadata": {
    "execution": {
     "iopub.execute_input": "2022-01-13T10:28:32.48543Z",
     "iopub.status.busy": "2022-01-13T10:28:32.485194Z",
     "iopub.status.idle": "2022-01-13T10:28:32.500463Z",
     "shell.execute_reply": "2022-01-13T10:28:32.49943Z",
     "shell.execute_reply.started": "2022-01-13T10:28:32.485401Z"
    }
   },
   "outputs": [],
   "source": [
    "# Function to perform training with Decision Tree || giniIndex.\n",
    "def train_using_gini(X_train, X_test, y_train):\n",
    "    # Creating the classifier object\n",
    "    clf_gini = DecisionTreeClassifier(criterion = \"gini\",random_state = 100,max_depth=8, min_samples_leaf=8)\n",
    "    # Performing training\n",
    "    clf_gini.fit(X_train, y_train)\n",
    "    return clf_gini\n",
    "      \n",
    "# Function to perform training with Decision Tree || entropy.\n",
    "def train_using_entropy(X_train, X_test, y_train):\n",
    "    # Decision tree with entropy\n",
    "    clf_entropy = DecisionTreeClassifier(\n",
    "            criterion = \"entropy\", random_state = 100,max_depth=50, min_samples_leaf = 8)  \n",
    "    # Performing training\n",
    "    clf_entropy.fit(X_train, y_train)\n",
    "    return clf_entropy\n",
    "\n",
    "# Function to perform training with SVM\n",
    "def train_using_SVM(X_train, X_test, y_train):\n",
    "    # Creating the SVM classifier object\n",
    "    clf_SVM = SVC(kernel='rbf',C=1.4,gamma='scale')\n",
    "    #Training SVM\n",
    "    clf_SVM.fit(X_train, y_train) \n",
    "    return clf_SVM\n",
    "\n",
    "# Function to perform training with Logistic Regression\n",
    "def train_using_logistic(X_train, X_test, y_train):\n",
    "    # Creating the Logistic classifier object\n",
    "    clf_logistic = LogisticRegression(solver='liblinear')\n",
    "    #Training Logistic classifier\n",
    "    clf_logistic.fit(X_train, y_train)\n",
    "    return clf_logistic\n",
    "\n",
    "def train_using_randomforest(X_train, X_test, y_train):\n",
    "    clf_randomF = RandomForestClassifier(n_estimators = 100)\n",
    "    clf_randomF.fit(X_train, y_train)\n",
    "    return clf_randomF"
   ]
  },
  {
   "cell_type": "code",
   "execution_count": 12,
   "metadata": {
    "execution": {
     "iopub.execute_input": "2022-01-13T10:28:32.502562Z",
     "iopub.status.busy": "2022-01-13T10:28:32.50196Z",
     "iopub.status.idle": "2022-01-13T10:28:32.51712Z",
     "shell.execute_reply": "2022-01-13T10:28:32.516146Z",
     "shell.execute_reply.started": "2022-01-13T10:28:32.502526Z"
    }
   },
   "outputs": [],
   "source": [
    "# Function to make predictions\n",
    "def prediction(X_test, clf_object):\n",
    "  \n",
    "    # Predicton on test with giniIndex\n",
    "    y_pred = clf_object.predict(X_test)\n",
    "    print(\"Predicted values:\")\n",
    "    print(y_pred,\"\\n\")\n",
    "    return y_pred"
   ]
  },
  {
   "cell_type": "code",
   "execution_count": 13,
   "metadata": {
    "execution": {
     "iopub.execute_input": "2022-01-13T10:28:32.519061Z",
     "iopub.status.busy": "2022-01-13T10:28:32.518542Z",
     "iopub.status.idle": "2022-01-13T10:28:32.529602Z",
     "shell.execute_reply": "2022-01-13T10:28:32.528859Z",
     "shell.execute_reply.started": "2022-01-13T10:28:32.519015Z"
    }
   },
   "outputs": [],
   "source": [
    "# Function to calculate accuracy\n",
    "def cal_accuracy(y_test, y_pred):\n",
    "      \n",
    "    print (\"\\nAccuracy : \",\n",
    "    accuracy_score(y_test,y_pred)*100)\n",
    "    print(\"\\n\")\n",
    "      \n",
    "    print(\"Report : \",\n",
    "    classification_report(y_test, y_pred))"
   ]
  },
  {
   "cell_type": "code",
   "execution_count": 14,
   "metadata": {
    "execution": {
     "iopub.execute_input": "2022-01-13T10:28:32.532953Z",
     "iopub.status.busy": "2022-01-13T10:28:32.532435Z",
     "iopub.status.idle": "2022-01-13T10:28:45.083688Z",
     "shell.execute_reply": "2022-01-13T10:28:45.0827Z",
     "shell.execute_reply.started": "2022-01-13T10:28:32.532898Z"
    }
   },
   "outputs": [],
   "source": [
    "# Building Phase\n",
    "X, Y, X_train, X_test, y_train, y_test = splitdataset(data,target)\n",
    "clf_gini = train_using_gini(X_train, X_test, y_train)\n",
    "clf_entropy = train_using_entropy(X_train, X_test, y_train)\n",
    "clf_SVM = train_using_SVM(X_train, X_test, y_train)\n",
    "clf_logistic = train_using_logistic(X_train, X_test, y_train)\n",
    "clf_randomF = train_using_randomforest(X_train, X_test, y_train)"
   ]
  },
  {
   "cell_type": "code",
   "execution_count": 15,
   "metadata": {
    "execution": {
     "iopub.execute_input": "2022-01-13T10:28:45.085488Z",
     "iopub.status.busy": "2022-01-13T10:28:45.085241Z",
     "iopub.status.idle": "2022-01-13T10:28:45.104022Z",
     "shell.execute_reply": "2022-01-13T10:28:45.102995Z",
     "shell.execute_reply.started": "2022-01-13T10:28:45.085455Z"
    }
   },
   "outputs": [
    {
     "name": "stdout",
     "output_type": "stream",
     "text": [
      "Results Using Decision Tree || Gini Index:\n",
      "\n",
      "Predicted values:\n",
      "[2 2 2 ... 0 2 2] \n",
      "\n",
      "\n",
      "Accuracy :  62.97773346626786\n",
      "\n",
      "\n",
      "Report :                precision    recall  f1-score   support\n",
      "\n",
      "           0       0.64      0.52      0.57      1337\n",
      "           1       0.40      0.01      0.03       142\n",
      "           2       0.62      0.79      0.69      1530\n",
      "\n",
      "    accuracy                           0.63      3009\n",
      "   macro avg       0.56      0.44      0.43      3009\n",
      "weighted avg       0.62      0.63      0.61      3009\n",
      "\n"
     ]
    }
   ],
   "source": [
    "print(\"Results Using Decision Tree || Gini Index:\\n\")\n",
    "      \n",
    "# Prediction using gini\n",
    "y_pred_gini = prediction(X_test,clf_gini)\n",
    "cal_accuracy(y_test, y_pred_gini)"
   ]
  },
  {
   "cell_type": "code",
   "execution_count": 16,
   "metadata": {
    "execution": {
     "iopub.execute_input": "2022-01-13T10:28:45.106151Z",
     "iopub.status.busy": "2022-01-13T10:28:45.105817Z",
     "iopub.status.idle": "2022-01-13T10:28:45.12515Z",
     "shell.execute_reply": "2022-01-13T10:28:45.124152Z",
     "shell.execute_reply.started": "2022-01-13T10:28:45.106106Z"
    }
   },
   "outputs": [
    {
     "name": "stdout",
     "output_type": "stream",
     "text": [
      "Results Using Decision Tree || Entropy:\n",
      "\n",
      "Predicted values:\n",
      "[0 0 2 ... 2 0 0] \n",
      "\n",
      "\n",
      "Accuracy :  66.56696576935859\n",
      "\n",
      "\n",
      "Report :                precision    recall  f1-score   support\n",
      "\n",
      "           0       0.64      0.69      0.67      1337\n",
      "           1       0.24      0.06      0.09       142\n",
      "           2       0.70      0.70      0.70      1530\n",
      "\n",
      "    accuracy                           0.67      3009\n",
      "   macro avg       0.52      0.48      0.49      3009\n",
      "weighted avg       0.65      0.67      0.66      3009\n",
      "\n"
     ]
    }
   ],
   "source": [
    "print(\"Results Using Decision Tree || Entropy:\\n\")\n",
    "\n",
    "# Prediction using entropy\n",
    "y_pred_entropy = prediction(X_test, clf_entropy)\n",
    "cal_accuracy(y_test, y_pred_entropy)"
   ]
  },
  {
   "cell_type": "code",
   "execution_count": 17,
   "metadata": {
    "execution": {
     "iopub.execute_input": "2022-01-13T10:28:45.126706Z",
     "iopub.status.busy": "2022-01-13T10:28:45.126412Z",
     "iopub.status.idle": "2022-01-13T10:28:45.92617Z",
     "shell.execute_reply": "2022-01-13T10:28:45.925111Z",
     "shell.execute_reply.started": "2022-01-13T10:28:45.126673Z"
    }
   },
   "outputs": [
    {
     "name": "stdout",
     "output_type": "stream",
     "text": [
      "Results Using SVM Classifier:\n",
      "\n",
      "Predicted values:\n",
      "[2 2 2 ... 2 2 2] \n",
      "\n",
      "\n",
      "Accuracy :  63.808574277168496\n",
      "\n",
      "\n",
      "Report :                precision    recall  f1-score   support\n",
      "\n",
      "           0       0.65      0.55      0.59      1337\n",
      "           1       0.00      0.00      0.00       142\n",
      "           2       0.63      0.77      0.70      1530\n",
      "\n",
      "    accuracy                           0.64      3009\n",
      "   macro avg       0.43      0.44      0.43      3009\n",
      "weighted avg       0.61      0.64      0.62      3009\n",
      "\n"
     ]
    },
    {
     "name": "stderr",
     "output_type": "stream",
     "text": [
      "D:\\Anaconda\\lib\\site-packages\\sklearn\\metrics\\_classification.py:1248: UndefinedMetricWarning: Precision and F-score are ill-defined and being set to 0.0 in labels with no predicted samples. Use `zero_division` parameter to control this behavior.\n",
      "  _warn_prf(average, modifier, msg_start, len(result))\n",
      "D:\\Anaconda\\lib\\site-packages\\sklearn\\metrics\\_classification.py:1248: UndefinedMetricWarning: Precision and F-score are ill-defined and being set to 0.0 in labels with no predicted samples. Use `zero_division` parameter to control this behavior.\n",
      "  _warn_prf(average, modifier, msg_start, len(result))\n",
      "D:\\Anaconda\\lib\\site-packages\\sklearn\\metrics\\_classification.py:1248: UndefinedMetricWarning: Precision and F-score are ill-defined and being set to 0.0 in labels with no predicted samples. Use `zero_division` parameter to control this behavior.\n",
      "  _warn_prf(average, modifier, msg_start, len(result))\n"
     ]
    }
   ],
   "source": [
    "print(\"Results Using SVM Classifier:\\n\")\n",
    "\n",
    "# Prediction using SVM\n",
    "y_pred_SVM = prediction(X_test, clf_SVM)\n",
    "cal_accuracy(y_test, y_pred_SVM)"
   ]
  },
  {
   "cell_type": "code",
   "execution_count": 18,
   "metadata": {
    "execution": {
     "iopub.execute_input": "2022-01-13T10:28:45.928622Z",
     "iopub.status.busy": "2022-01-13T10:28:45.927752Z",
     "iopub.status.idle": "2022-01-13T10:28:45.947083Z",
     "shell.execute_reply": "2022-01-13T10:28:45.946036Z",
     "shell.execute_reply.started": "2022-01-13T10:28:45.928575Z"
    }
   },
   "outputs": [
    {
     "name": "stdout",
     "output_type": "stream",
     "text": [
      "Results Using Logistic Regression:\n",
      "\n",
      "Predicted values:\n",
      "[2 2 2 ... 2 2 2] \n",
      "\n",
      "\n",
      "Accuracy :  63.37653705550017\n",
      "\n",
      "\n",
      "Report :                precision    recall  f1-score   support\n",
      "\n",
      "           0       0.62      0.59      0.61      1337\n",
      "           1       1.00      0.01      0.01       142\n",
      "           2       0.64      0.73      0.68      1530\n",
      "\n",
      "    accuracy                           0.63      3009\n",
      "   macro avg       0.75      0.44      0.43      3009\n",
      "weighted avg       0.65      0.63      0.62      3009\n",
      "\n"
     ]
    }
   ],
   "source": [
    "print(\"Results Using Logistic Regression:\\n\")\n",
    "      \n",
    "# Prediction using Logistic Regression\n",
    "y_pred_logistic = prediction(X_test,clf_logistic)\n",
    "cal_accuracy(y_test, y_pred_logistic)"
   ]
  },
  {
   "cell_type": "code",
   "execution_count": 19,
   "metadata": {
    "execution": {
     "iopub.execute_input": "2022-01-13T10:28:45.949395Z",
     "iopub.status.busy": "2022-01-13T10:28:45.948471Z",
     "iopub.status.idle": "2022-01-13T10:28:46.064724Z",
     "shell.execute_reply": "2022-01-13T10:28:46.063751Z",
     "shell.execute_reply.started": "2022-01-13T10:28:45.94934Z"
    }
   },
   "outputs": [
    {
     "name": "stdout",
     "output_type": "stream",
     "text": [
      "Results Using Random Forest\n",
      "\n",
      "Predicted values:\n",
      "[2 0 2 ... 0 2 2] \n",
      "\n",
      "\n",
      "Accuracy :  68.56098371552011\n",
      "\n",
      "\n",
      "Report :                precision    recall  f1-score   support\n",
      "\n",
      "           0       0.67      0.68      0.67      1337\n",
      "           1       0.61      0.13      0.22       142\n",
      "           2       0.70      0.74      0.72      1530\n",
      "\n",
      "    accuracy                           0.69      3009\n",
      "   macro avg       0.66      0.52      0.54      3009\n",
      "weighted avg       0.68      0.69      0.68      3009\n",
      "\n"
     ]
    }
   ],
   "source": [
    "print(\"Results Using Random Forest\\n\")\n",
    "      \n",
    "# Prediction using Random Forest\n",
    "y_pred_randomF = prediction(X_test,clf_randomF)\n",
    "cal_accuracy(y_test, y_pred_randomF)"
   ]
  },
  {
   "cell_type": "code",
   "execution_count": null,
   "metadata": {},
   "outputs": [],
   "source": []
  }
 ],
 "metadata": {
  "kernelspec": {
   "display_name": "Python 3",
   "language": "python",
   "name": "python3"
  },
  "language_info": {
   "codemirror_mode": {
    "name": "ipython",
    "version": 3
   },
   "file_extension": ".py",
   "mimetype": "text/x-python",
   "name": "python",
   "nbconvert_exporter": "python",
   "pygments_lexer": "ipython3",
   "version": "3.8.8"
  }
 },
 "nbformat": 4,
 "nbformat_minor": 4
}
